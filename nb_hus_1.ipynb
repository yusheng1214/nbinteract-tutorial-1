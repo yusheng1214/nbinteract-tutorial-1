{
 "cells": [
  {
   "cell_type": "code",
   "execution_count": 5,
   "id": "alpine-japan",
   "metadata": {
    "scrolled": true
   },
   "outputs": [],
   "source": [
    "import numpy"
   ]
  },
  {
   "cell_type": "code",
   "execution_count": 10,
   "id": "handy-mechanics",
   "metadata": {},
   "outputs": [],
   "source": [
    "from ipywidgets import interact\n",
    "import numpy as np\n",
    "import random\n",
    "\n",
    "PRIZES = ['Car', 'Goat 1', 'Goat 2']\n",
    "\n",
    "def monty_hall(example_num=0):\n",
    "    '''\n",
    "    Simulates one round of the Monty Hall Problem. Outputs a tuple of\n",
    "    (result if stay, result if switch, result behind opened door) where\n",
    "    each results is one of PRIZES.\n",
    "    '''\n",
    "    pick = random.choice(PRIZES)\n",
    "    opened = random.choice(\n",
    "        [p for p in PRIZES if p != pick and p != 'Car']\n",
    "    )\n",
    "    remainder = next(p for p in PRIZES if p != pick and p != opened)\n",
    "    return (pick, remainder, opened)"
   ]
  },
  {
   "cell_type": "code",
   "execution_count": 7,
   "id": "civilian-tower",
   "metadata": {},
   "outputs": [
    {
     "data": {
      "application/vnd.jupyter.widget-view+json": {
       "model_id": "7e65072364ad48268e52982f682a4378",
       "version_major": 2,
       "version_minor": 0
      },
      "text/plain": [
       "interactive(children=(IntSlider(value=0, description='example_num'), Output()), _dom_classes=('widget-interact…"
      ]
     },
     "metadata": {},
     "output_type": "display_data"
    }
   ],
   "source": [
    "interact(monty_hall, example_num=(0, 100));"
   ]
  },
  {
   "cell_type": "code",
   "execution_count": 8,
   "id": "ordered-swift",
   "metadata": {},
   "outputs": [
    {
     "data": {
      "application/vnd.jupyter.widget-view+json": {
       "model_id": "8b275682454a4d48a2b193ca954a73b6",
       "version_major": 2,
       "version_minor": 0
      },
      "text/plain": [
       "interactive(children=(IntSlider(value=0, description='example_num'), Output()), _dom_classes=('widget-interact…"
      ]
     },
     "metadata": {},
     "output_type": "display_data"
    }
   ],
   "source": [
    "def winner(example_num=0):\n",
    "    '''\n",
    "    Plays a game of Monty Hall. If staying with the original door wins\n",
    "    a car, return 'stay'. Otherwise, the remaining door contains the car\n",
    "    so 'switch' would have won.\n",
    "    '''\n",
    "    picked, _, _ = monty_hall()\n",
    "    return 'stay' if picked == 'Car' else 'switch'\n",
    "\n",
    "interact(winner, example_num=(0, 100));"
   ]
  },
  {
   "cell_type": "code",
   "execution_count": 11,
   "id": "further-investment",
   "metadata": {},
   "outputs": [
    {
     "data": {
      "application/vnd.jupyter.widget-view+json": {
       "model_id": "171ee9d080a145c8964755a5da4ea29d",
       "version_major": 2,
       "version_minor": 0
      },
      "text/plain": [
       "VBox(children=(interactive(children=(Output(),), _dom_classes=('widget-interact',)), Figure(axes=[Axis(scale=O…"
      ]
     },
     "metadata": {},
     "output_type": "display_data"
    }
   ],
   "source": [
    "import nbinteract as nbi\n",
    "\n",
    "nbi.bar(['a', 'b'], [4, 6])"
   ]
  },
  {
   "cell_type": "code",
   "execution_count": 12,
   "id": "young-dealing",
   "metadata": {},
   "outputs": [
    {
     "data": {
      "application/vnd.jupyter.widget-view+json": {
       "model_id": "83bb9da2be8b42ef9f8adac35cd9fa2f",
       "version_major": 2,
       "version_minor": 0
      },
      "text/plain": [
       "VBox(children=(interactive(children=(IntSlider(value=4, description='n', max=7, min=1), IntSlider(value=5, des…"
      ]
     },
     "metadata": {},
     "output_type": "display_data"
    }
   ],
   "source": [
    "def categories(n):\n",
    "    return list('abcdefg')[:n]\n",
    "\n",
    "# This function generates the y-values (heights of bars)\n",
    "# The y response function always takes in the x-values as its\n",
    "# first argument\n",
    "def offset_y(xs, offset):\n",
    "    num_categories = len(xs)\n",
    "    return np.arange(num_categories) + offset\n",
    "\n",
    "# Each argument of the response functions is passed in as a keyword\n",
    "# argument to `nbi.bar` in the same format as `interact`\n",
    "nbi.bar(categories, offset_y, n=(1, 7), offset=(0, 10))"
   ]
  },
  {
   "cell_type": "code",
   "execution_count": 13,
   "id": "substantial-visiting",
   "metadata": {},
   "outputs": [
    {
     "data": {
      "application/vnd.jupyter.widget-view+json": {
       "model_id": "4ffae1ee9cd64b2797e66aa0d2dba790",
       "version_major": 2,
       "version_minor": 0
      },
      "text/plain": [
       "VBox(children=(interactive(children=(IntSlider(value=500, description='num_games', max=1000, min=1), Output())…"
      ]
     },
     "metadata": {},
     "output_type": "display_data"
    }
   ],
   "source": [
    "categories = ['stay', 'switch']\n",
    "\n",
    "winners = [winner() for _ in range(1000)]\n",
    "\n",
    "# Note that the the first argument to the y response function\n",
    "# will be the x-values which we don't need\n",
    "def won(_, num_games):\n",
    "    '''\n",
    "    Outputs a 2-tuple of the number of times each strategy won\n",
    "    after num_games games.\n",
    "    '''\n",
    "    return (winners[:num_games].count('stay'),\n",
    "            winners[:num_games].count('switch'))\n",
    "\n",
    "nbi.bar(categories, won, num_games=(1, 1000))"
   ]
  },
  {
   "cell_type": "code",
   "execution_count": 14,
   "id": "fatal-transsexual",
   "metadata": {},
   "outputs": [
    {
     "data": {
      "application/vnd.jupyter.widget-view+json": {
       "model_id": "423037b116a54829930f6dfa44a8e0a3",
       "version_major": 2,
       "version_minor": 0
      },
      "text/plain": [
       "VBox(children=(interactive(children=(IntSlider(value=500, description='num_games', max=1000, min=1), Output())…"
      ]
     },
     "metadata": {},
     "output_type": "display_data"
    }
   ],
   "source": [
    "options = {\n",
    "    'title': 'Number of times each strategy wins',\n",
    "    'xlabel': 'Strategy',\n",
    "    'ylabel': 'Number of wins',\n",
    "    'ylim': (0, 700),\n",
    "}\n",
    "\n",
    "nbi.bar(categories, won, options=options, num_games=(1, 1000))"
   ]
  },
  {
   "cell_type": "code",
   "execution_count": 15,
   "id": "annual-siemens",
   "metadata": {},
   "outputs": [
    {
     "data": {
      "application/vnd.jupyter.widget-view+json": {
       "model_id": "a5387ceefb5d4d12b74e017f017e73db",
       "version_major": 2,
       "version_minor": 0
      },
      "text/plain": [
       "VBox(children=(interactive(children=(Play(value=0, description='num_games', interval=17, max=1000, step=10), O…"
      ]
     },
     "metadata": {},
     "output_type": "display_data"
    }
   ],
   "source": [
    "from ipywidgets import Play\n",
    "\n",
    "nbi.bar(categories, won, options=options,\n",
    "        num_games=Play(min=0, max=1000, step=10, value=0, interval=17))"
   ]
  },
  {
   "cell_type": "code",
   "execution_count": 16,
   "id": "bright-insurance",
   "metadata": {},
   "outputs": [
    {
     "data": {
      "application/vnd.jupyter.widget-view+json": {
       "model_id": "6dd79440e85e4c01837bd02979685084",
       "version_major": 2,
       "version_minor": 0
      },
      "text/plain": [
       "interactive(children=(IntSlider(value=55, description='sample_size', min=10), Output()), _dom_classes=('widget…"
      ]
     },
     "metadata": {},
     "output_type": "display_data"
    }
   ],
   "source": [
    "def prop_wins(sample_size):\n",
    "    '''Returns proportion of times switching wins after sample_size games.'''\n",
    "    return sum(winner() == 'switch' for _ in range(sample_size)) / sample_size\n",
    "\n",
    "interact(prop_wins, sample_size=(10, 100));"
   ]
  },
  {
   "cell_type": "code",
   "execution_count": 17,
   "id": "christian-addition",
   "metadata": {},
   "outputs": [
    {
     "data": {
      "application/vnd.jupyter.widget-view+json": {
       "model_id": "fb374ab713334ed6a5f0eac818e3d9a1",
       "version_major": 2,
       "version_minor": 0
      },
      "text/plain": [
       "interactive(children=(IntSlider(value=55, description='sample_size', min=10), IntSlider(value=55, description=…"
      ]
     },
     "metadata": {},
     "output_type": "display_data"
    }
   ],
   "source": [
    "def generate_proportions(sample_size, repetitions):\n",
    "    '''\n",
    "    Returns an array of length reptitions. Each element in the list is the\n",
    "    proportion of times switching won in sample_size games.\n",
    "    '''\n",
    "    return np.array([prop_wins(sample_size) for _ in range(repetitions)])\n",
    "\n",
    "interact(generate_proportions, sample_size=(10, 100), repetitions=(10, 100));"
   ]
  },
  {
   "cell_type": "code",
   "execution_count": 18,
   "id": "returning-manual",
   "metadata": {},
   "outputs": [
    {
     "data": {
      "application/vnd.jupyter.widget-view+json": {
       "model_id": "01115131580a4d6ab1e309ec053a9579",
       "version_major": 2,
       "version_minor": 0
      },
      "text/plain": [
       "VBox(children=(interactive(children=(Play(value=0, description='num_sets', interval=50), Output()), _dom_class…"
      ]
     },
     "metadata": {},
     "output_type": "display_data"
    }
   ],
   "source": [
    "# Play the game 10 times, recording the proportion of times switching wins.\n",
    "# Repeat 100 times to record 100 proportions\n",
    "proportions = generate_proportions(sample_size=10, repetitions=100)\n",
    "\n",
    "def props_up_to(num_sets):\n",
    "    return proportions[:num_sets]\n",
    "\n",
    "nbi.hist(props_up_to, num_sets=Play(min=0, max=100, value=0, interval=50))"
   ]
  },
  {
   "cell_type": "code",
   "execution_count": 19,
   "id": "rotary-episode",
   "metadata": {},
   "outputs": [
    {
     "data": {
      "application/vnd.jupyter.widget-view+json": {
       "model_id": "a6a384909a00496d85458a3d82aecd1c",
       "version_major": 2,
       "version_minor": 0
      },
      "text/plain": [
       "VBox(children=(interactive(children=(Play(value=0, description='num_sets', interval=50), Output()), _dom_class…"
      ]
     },
     "metadata": {},
     "output_type": "display_data"
    }
   ],
   "source": [
    "options = {\n",
    "    'title': 'Distribution of win proportion over 100 sets of 10 games when switching',\n",
    "    'xlabel': 'Proportions',\n",
    "    'ylabel': 'Percent per area',\n",
    "    'xlim': (0.3, 1),\n",
    "    'ylim': (0, 3),\n",
    "    'bins': 7,\n",
    "}\n",
    "\n",
    "nbi.hist(props_up_to, options=options, num_sets=Play(min=0, max=100, value=0, interval=50))"
   ]
  },
  {
   "cell_type": "code",
   "execution_count": 20,
   "id": "japanese-analysis",
   "metadata": {},
   "outputs": [
    {
     "data": {
      "application/vnd.jupyter.widget-view+json": {
       "model_id": "1eb153f03c694e5ebd25ab0c36a641f1",
       "version_major": 2,
       "version_minor": 0
      },
      "text/plain": [
       "VBox(children=(interactive(children=(Play(value=10, description='sample_size', interval=50, min=10), Output())…"
      ]
     },
     "metadata": {},
     "output_type": "display_data"
    }
   ],
   "source": [
    "varying_sample_size = [generate_proportions(sample_size, repetitions=100)\n",
    "                       for sample_size in range(10, 101)]\n",
    "\n",
    "def props_for_sample_size(sample_size):\n",
    "    return varying_sample_size[sample_size - 10]\n",
    "\n",
    "changed_options = {\n",
    "    'title': 'Distribution of win proportions as sample size increases',\n",
    "    'ylim': (0, 6),\n",
    "    'bins': 20,\n",
    "}\n",
    "\n",
    "nbi.hist(props_for_sample_size,\n",
    "         options={**options, **changed_options},\n",
    "         sample_size=Play(min=10, max=100, value=10, interval=50))"
   ]
  },
  {
   "cell_type": "code",
   "execution_count": 21,
   "id": "australian-contract",
   "metadata": {},
   "outputs": [
    {
     "data": {
      "application/vnd.jupyter.widget-view+json": {
       "model_id": "63418b04020c4cafb152c023e1809071",
       "version_major": 2,
       "version_minor": 0
      },
      "text/plain": [
       "VBox(children=(interactive(children=(Play(value=10, description='reps', interval=50, min=10), Output()), _dom_…"
      ]
     },
     "metadata": {},
     "output_type": "display_data"
    }
   ],
   "source": [
    "varying_reps = [generate_proportions(sample_size=10, repetitions=reps) for reps in range(10, 101)]\n",
    "\n",
    "def props_for_reps(reps):\n",
    "    return varying_reps[reps - 10]\n",
    "\n",
    "changed_options = {\n",
    "    'title': 'Distribution of win proportions as repetitions increase',\n",
    "    'ylim': (0, 5),\n",
    "}\n",
    "\n",
    "nbi.hist(props_for_reps,\n",
    "         options={**options, **changed_options},\n",
    "         reps=Play(min=10, max=100, value=10, interval=50))"
   ]
  },
  {
   "cell_type": "code",
   "execution_count": null,
   "id": "auburn-zimbabwe",
   "metadata": {},
   "outputs": [],
   "source": []
  }
 ],
 "metadata": {
  "kernelspec": {
   "display_name": "hus38_env",
   "language": "python",
   "name": "hus38_env"
  },
  "language_info": {
   "codemirror_mode": {
    "name": "ipython",
    "version": 3
   },
   "file_extension": ".py",
   "mimetype": "text/x-python",
   "name": "python",
   "nbconvert_exporter": "python",
   "pygments_lexer": "ipython3",
   "version": "3.8.0"
  }
 },
 "nbformat": 4,
 "nbformat_minor": 5
}
